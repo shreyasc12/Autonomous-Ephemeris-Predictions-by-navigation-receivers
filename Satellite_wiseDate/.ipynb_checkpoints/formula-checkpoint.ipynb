{
 "cells": [
  {
   "cell_type": "code",
   "execution_count": 2,
   "metadata": {},
   "outputs": [
    {
     "ename": "FileNotFoundError",
     "evalue": "File b'pro.csv' does not exist",
     "output_type": "error",
     "traceback": [
      "\u001b[0;31m---------------------------------------------------------------------------\u001b[0m",
      "\u001b[0;31mFileNotFoundError\u001b[0m                         Traceback (most recent call last)",
      "\u001b[0;32m<ipython-input-2-07dc02f18ef6>\u001b[0m in \u001b[0;36m<module>\u001b[0;34m()\u001b[0m\n\u001b[1;32m      5\u001b[0m \u001b[0mnp\u001b[0m\u001b[0;34m.\u001b[0m\u001b[0mset_printoptions\u001b[0m\u001b[0;34m(\u001b[0m\u001b[0mprecision\u001b[0m\u001b[0;34m=\u001b[0m\u001b[0;36m15\u001b[0m\u001b[0;34m)\u001b[0m\u001b[0;34m\u001b[0m\u001b[0m\n\u001b[1;32m      6\u001b[0m \u001b[0;34m\u001b[0m\u001b[0m\n\u001b[0;32m----> 7\u001b[0;31m \u001b[0mdf\u001b[0m\u001b[0;34m=\u001b[0m\u001b[0mpd\u001b[0m\u001b[0;34m.\u001b[0m\u001b[0mread_csv\u001b[0m\u001b[0;34m(\u001b[0m\u001b[0;34m'pro.csv'\u001b[0m\u001b[0;34m)\u001b[0m\u001b[0;34m\u001b[0m\u001b[0m\n\u001b[0m",
      "\u001b[0;32m~/anaconda3/lib/python3.6/site-packages/pandas/io/parsers.py\u001b[0m in \u001b[0;36mparser_f\u001b[0;34m(filepath_or_buffer, sep, delimiter, header, names, index_col, usecols, squeeze, prefix, mangle_dupe_cols, dtype, engine, converters, true_values, false_values, skipinitialspace, skiprows, nrows, na_values, keep_default_na, na_filter, verbose, skip_blank_lines, parse_dates, infer_datetime_format, keep_date_col, date_parser, dayfirst, iterator, chunksize, compression, thousands, decimal, lineterminator, quotechar, quoting, escapechar, comment, encoding, dialect, tupleize_cols, error_bad_lines, warn_bad_lines, skipfooter, skip_footer, doublequote, delim_whitespace, as_recarray, compact_ints, use_unsigned, low_memory, buffer_lines, memory_map, float_precision)\u001b[0m\n\u001b[1;32m    707\u001b[0m                     skip_blank_lines=skip_blank_lines)\n\u001b[1;32m    708\u001b[0m \u001b[0;34m\u001b[0m\u001b[0m\n\u001b[0;32m--> 709\u001b[0;31m         \u001b[0;32mreturn\u001b[0m \u001b[0m_read\u001b[0m\u001b[0;34m(\u001b[0m\u001b[0mfilepath_or_buffer\u001b[0m\u001b[0;34m,\u001b[0m \u001b[0mkwds\u001b[0m\u001b[0;34m)\u001b[0m\u001b[0;34m\u001b[0m\u001b[0m\n\u001b[0m\u001b[1;32m    710\u001b[0m \u001b[0;34m\u001b[0m\u001b[0m\n\u001b[1;32m    711\u001b[0m     \u001b[0mparser_f\u001b[0m\u001b[0;34m.\u001b[0m\u001b[0m__name__\u001b[0m \u001b[0;34m=\u001b[0m \u001b[0mname\u001b[0m\u001b[0;34m\u001b[0m\u001b[0m\n",
      "\u001b[0;32m~/anaconda3/lib/python3.6/site-packages/pandas/io/parsers.py\u001b[0m in \u001b[0;36m_read\u001b[0;34m(filepath_or_buffer, kwds)\u001b[0m\n\u001b[1;32m    447\u001b[0m \u001b[0;34m\u001b[0m\u001b[0m\n\u001b[1;32m    448\u001b[0m     \u001b[0;31m# Create the parser.\u001b[0m\u001b[0;34m\u001b[0m\u001b[0;34m\u001b[0m\u001b[0m\n\u001b[0;32m--> 449\u001b[0;31m     \u001b[0mparser\u001b[0m \u001b[0;34m=\u001b[0m \u001b[0mTextFileReader\u001b[0m\u001b[0;34m(\u001b[0m\u001b[0mfilepath_or_buffer\u001b[0m\u001b[0;34m,\u001b[0m \u001b[0;34m**\u001b[0m\u001b[0mkwds\u001b[0m\u001b[0;34m)\u001b[0m\u001b[0;34m\u001b[0m\u001b[0m\n\u001b[0m\u001b[1;32m    450\u001b[0m \u001b[0;34m\u001b[0m\u001b[0m\n\u001b[1;32m    451\u001b[0m     \u001b[0;32mif\u001b[0m \u001b[0mchunksize\u001b[0m \u001b[0;32mor\u001b[0m \u001b[0miterator\u001b[0m\u001b[0;34m:\u001b[0m\u001b[0;34m\u001b[0m\u001b[0m\n",
      "\u001b[0;32m~/anaconda3/lib/python3.6/site-packages/pandas/io/parsers.py\u001b[0m in \u001b[0;36m__init__\u001b[0;34m(self, f, engine, **kwds)\u001b[0m\n\u001b[1;32m    816\u001b[0m             \u001b[0mself\u001b[0m\u001b[0;34m.\u001b[0m\u001b[0moptions\u001b[0m\u001b[0;34m[\u001b[0m\u001b[0;34m'has_index_names'\u001b[0m\u001b[0;34m]\u001b[0m \u001b[0;34m=\u001b[0m \u001b[0mkwds\u001b[0m\u001b[0;34m[\u001b[0m\u001b[0;34m'has_index_names'\u001b[0m\u001b[0;34m]\u001b[0m\u001b[0;34m\u001b[0m\u001b[0m\n\u001b[1;32m    817\u001b[0m \u001b[0;34m\u001b[0m\u001b[0m\n\u001b[0;32m--> 818\u001b[0;31m         \u001b[0mself\u001b[0m\u001b[0;34m.\u001b[0m\u001b[0m_make_engine\u001b[0m\u001b[0;34m(\u001b[0m\u001b[0mself\u001b[0m\u001b[0;34m.\u001b[0m\u001b[0mengine\u001b[0m\u001b[0;34m)\u001b[0m\u001b[0;34m\u001b[0m\u001b[0m\n\u001b[0m\u001b[1;32m    819\u001b[0m \u001b[0;34m\u001b[0m\u001b[0m\n\u001b[1;32m    820\u001b[0m     \u001b[0;32mdef\u001b[0m \u001b[0mclose\u001b[0m\u001b[0;34m(\u001b[0m\u001b[0mself\u001b[0m\u001b[0;34m)\u001b[0m\u001b[0;34m:\u001b[0m\u001b[0;34m\u001b[0m\u001b[0m\n",
      "\u001b[0;32m~/anaconda3/lib/python3.6/site-packages/pandas/io/parsers.py\u001b[0m in \u001b[0;36m_make_engine\u001b[0;34m(self, engine)\u001b[0m\n\u001b[1;32m   1047\u001b[0m     \u001b[0;32mdef\u001b[0m \u001b[0m_make_engine\u001b[0m\u001b[0;34m(\u001b[0m\u001b[0mself\u001b[0m\u001b[0;34m,\u001b[0m \u001b[0mengine\u001b[0m\u001b[0;34m=\u001b[0m\u001b[0;34m'c'\u001b[0m\u001b[0;34m)\u001b[0m\u001b[0;34m:\u001b[0m\u001b[0;34m\u001b[0m\u001b[0m\n\u001b[1;32m   1048\u001b[0m         \u001b[0;32mif\u001b[0m \u001b[0mengine\u001b[0m \u001b[0;34m==\u001b[0m \u001b[0;34m'c'\u001b[0m\u001b[0;34m:\u001b[0m\u001b[0;34m\u001b[0m\u001b[0m\n\u001b[0;32m-> 1049\u001b[0;31m             \u001b[0mself\u001b[0m\u001b[0;34m.\u001b[0m\u001b[0m_engine\u001b[0m \u001b[0;34m=\u001b[0m \u001b[0mCParserWrapper\u001b[0m\u001b[0;34m(\u001b[0m\u001b[0mself\u001b[0m\u001b[0;34m.\u001b[0m\u001b[0mf\u001b[0m\u001b[0;34m,\u001b[0m \u001b[0;34m**\u001b[0m\u001b[0mself\u001b[0m\u001b[0;34m.\u001b[0m\u001b[0moptions\u001b[0m\u001b[0;34m)\u001b[0m\u001b[0;34m\u001b[0m\u001b[0m\n\u001b[0m\u001b[1;32m   1050\u001b[0m         \u001b[0;32melse\u001b[0m\u001b[0;34m:\u001b[0m\u001b[0;34m\u001b[0m\u001b[0m\n\u001b[1;32m   1051\u001b[0m             \u001b[0;32mif\u001b[0m \u001b[0mengine\u001b[0m \u001b[0;34m==\u001b[0m \u001b[0;34m'python'\u001b[0m\u001b[0;34m:\u001b[0m\u001b[0;34m\u001b[0m\u001b[0m\n",
      "\u001b[0;32m~/anaconda3/lib/python3.6/site-packages/pandas/io/parsers.py\u001b[0m in \u001b[0;36m__init__\u001b[0;34m(self, src, **kwds)\u001b[0m\n\u001b[1;32m   1693\u001b[0m         \u001b[0mkwds\u001b[0m\u001b[0;34m[\u001b[0m\u001b[0;34m'allow_leading_cols'\u001b[0m\u001b[0;34m]\u001b[0m \u001b[0;34m=\u001b[0m \u001b[0mself\u001b[0m\u001b[0;34m.\u001b[0m\u001b[0mindex_col\u001b[0m \u001b[0;32mis\u001b[0m \u001b[0;32mnot\u001b[0m \u001b[0;32mFalse\u001b[0m\u001b[0;34m\u001b[0m\u001b[0m\n\u001b[1;32m   1694\u001b[0m \u001b[0;34m\u001b[0m\u001b[0m\n\u001b[0;32m-> 1695\u001b[0;31m         \u001b[0mself\u001b[0m\u001b[0;34m.\u001b[0m\u001b[0m_reader\u001b[0m \u001b[0;34m=\u001b[0m \u001b[0mparsers\u001b[0m\u001b[0;34m.\u001b[0m\u001b[0mTextReader\u001b[0m\u001b[0;34m(\u001b[0m\u001b[0msrc\u001b[0m\u001b[0;34m,\u001b[0m \u001b[0;34m**\u001b[0m\u001b[0mkwds\u001b[0m\u001b[0;34m)\u001b[0m\u001b[0;34m\u001b[0m\u001b[0m\n\u001b[0m\u001b[1;32m   1696\u001b[0m \u001b[0;34m\u001b[0m\u001b[0m\n\u001b[1;32m   1697\u001b[0m         \u001b[0;31m# XXX\u001b[0m\u001b[0;34m\u001b[0m\u001b[0;34m\u001b[0m\u001b[0m\n",
      "\u001b[0;32mpandas/_libs/parsers.pyx\u001b[0m in \u001b[0;36mpandas._libs.parsers.TextReader.__cinit__\u001b[0;34m()\u001b[0m\n",
      "\u001b[0;32mpandas/_libs/parsers.pyx\u001b[0m in \u001b[0;36mpandas._libs.parsers.TextReader._setup_parser_source\u001b[0;34m()\u001b[0m\n",
      "\u001b[0;31mFileNotFoundError\u001b[0m: File b'pro.csv' does not exist"
     ]
    }
   ],
   "source": [
    "import numpy as np\n",
    "import pandas as pd\n",
    "import math as mp\n",
    "pd.options.display.float_format='{:,.20}'.format\n",
    "np.set_printoptions(precision=15)\n",
    "\n",
    "df=pd.read_csv('pro.csv')"
   ]
  },
  {
   "cell_type": "code",
   "execution_count": null,
   "metadata": {},
   "outputs": [],
   "source": [
    "from astropy.constants import G\n",
    "from astropy import constants as const\n",
    "GM=const.GM_earth.value"
   ]
  },
  {
   "cell_type": "code",
   "execution_count": null,
   "metadata": {},
   "outputs": [],
   "source": [
    "df"
   ]
  },
  {
   "cell_type": "code",
   "execution_count": null,
   "metadata": {},
   "outputs": [],
   "source": [
    "df1 = pd.to_datetime(df['Epoch_Time_of_Clock'])\n",
    "df['Epoch_Time_of_Clock']=df1\n",
    "#df.index = pd.to_datetime(df['Epoch_Time_of_Clock'],format='%Y-%m-%d %H:%M:%S')"
   ]
  },
  {
   "cell_type": "code",
   "execution_count": null,
   "metadata": {},
   "outputs": [],
   "source": [
    "df3=df['Toe']\n",
    "t=pd.DataFrame(columns=['Time'])\n",
    "for i in range(0,len(df)):\n",
    "    seconds=int(round(df1[i].timestamp()))\n",
    "    t.loc[i]=seconds-df3.loc[i]\n",
    "print(t.head())\n",
    "print(type(t))\n"
   ]
  },
  {
   "cell_type": "code",
   "execution_count": null,
   "metadata": {},
   "outputs": [],
   "source": [
    "df.columns"
   ]
  },
  {
   "cell_type": "code",
   "execution_count": null,
   "metadata": {},
   "outputs": [],
   "source": [
    "#mu=pd.DataFrame(columns=['MeanAnomaly'])\n",
    "m=[]\n",
    "for i in range(len(df)):\n",
    "    m.append(df.iloc[i,10]+t.iloc[i , 0]*(np.sqrt(GM/df.iloc[i , 14]**6)+df.iloc[i ,9]))\n",
    "#    mu.loc[i]=df['M0'].loc[i]+t.loc[i]*(np.sqrt(GM/df['sqrt_A'].loc[i]**6)+df['Del_n'].loc[i]) \n"
   ]
  },
  {
   "cell_type": "code",
   "execution_count": null,
   "metadata": {},
   "outputs": [],
   "source": [
    "mu=pd.Series(data = m ,name='Mean_Anomaly')\n",
    "for i in range(len(m)):\n",
    "    print(m[i])\n",
    "print(type(mu))"
   ]
  },
  {
   "cell_type": "code",
   "execution_count": null,
   "metadata": {},
   "outputs": [],
   "source": [
    "a = df['e']\n",
    "print(type(df['e']))"
   ]
  },
  {
   "cell_type": "code",
   "execution_count": 3,
   "metadata": {},
   "outputs": [
    {
     "ename": "NameError",
     "evalue": "name 'mu' is not defined",
     "output_type": "error",
     "traceback": [
      "\u001b[0;31m---------------------------------------------------------------------------\u001b[0m",
      "\u001b[0;31mNameError\u001b[0m                                 Traceback (most recent call last)",
      "\u001b[0;32m<ipython-input-3-8d27f7e2c86d>\u001b[0m in \u001b[0;36m<module>\u001b[0;34m()\u001b[0m\n\u001b[0;32m----> 1\u001b[0;31m \u001b[0mmu\u001b[0m\u001b[0;34m.\u001b[0m\u001b[0mshape\u001b[0m\u001b[0;34m\u001b[0m\u001b[0m\n\u001b[0m\u001b[1;32m      2\u001b[0m \u001b[0mprint\u001b[0m\u001b[0;34m(\u001b[0m\u001b[0mtype\u001b[0m\u001b[0;34m(\u001b[0m\u001b[0mmu\u001b[0m\u001b[0;34m)\u001b[0m\u001b[0;34m)\u001b[0m\u001b[0;34m\u001b[0m\u001b[0m\n",
      "\u001b[0;31mNameError\u001b[0m: name 'mu' is not defined"
     ]
    }
   ],
   "source": [
    "mu.shape\n",
    "print(type(mu))"
   ]
  },
  {
   "cell_type": "code",
   "execution_count": 4,
   "metadata": {},
   "outputs": [
    {
     "ename": "NameError",
     "evalue": "name 'df' is not defined",
     "output_type": "error",
     "traceback": [
      "\u001b[0;31m---------------------------------------------------------------------------\u001b[0m",
      "\u001b[0;31mNameError\u001b[0m                                 Traceback (most recent call last)",
      "\u001b[0;32m<ipython-input-4-5937e4a6d171>\u001b[0m in \u001b[0;36m<module>\u001b[0;34m()\u001b[0m\n\u001b[1;32m      1\u001b[0m \u001b[0;34m\u001b[0m\u001b[0m\n\u001b[0;32m----> 2\u001b[0;31m \u001b[0me\u001b[0m \u001b[0;34m=\u001b[0m \u001b[0mdf\u001b[0m\u001b[0;34m[\u001b[0m\u001b[0;34m'e'\u001b[0m\u001b[0;34m]\u001b[0m\u001b[0;34m\u001b[0m\u001b[0m\n\u001b[0m\u001b[1;32m      3\u001b[0m \u001b[0mst_list\u001b[0m \u001b[0;34m=\u001b[0m \u001b[0;34m[\u001b[0m\u001b[0;34m]\u001b[0m\u001b[0;34m\u001b[0m\u001b[0m\n\u001b[1;32m      4\u001b[0m \u001b[0med_list\u001b[0m \u001b[0;34m=\u001b[0m \u001b[0;34m[\u001b[0m\u001b[0;34m]\u001b[0m\u001b[0;34m\u001b[0m\u001b[0m\n\u001b[1;32m      5\u001b[0m \u001b[0;32mfor\u001b[0m \u001b[0mi\u001b[0m \u001b[0;32min\u001b[0m \u001b[0mrange\u001b[0m\u001b[0;34m(\u001b[0m\u001b[0mlen\u001b[0m\u001b[0;34m(\u001b[0m\u001b[0me\u001b[0m\u001b[0;34m)\u001b[0m\u001b[0;34m)\u001b[0m\u001b[0;34m:\u001b[0m\u001b[0;34m\u001b[0m\u001b[0m\n",
      "\u001b[0;31mNameError\u001b[0m: name 'df' is not defined"
     ]
    }
   ],
   "source": [
    "\n",
    "e = df['e']\n",
    "st_list = []\n",
    "ed_list = []\n",
    "for i in range(len(e)):\n",
    "    st_list.append(mu[i] - 1.01*e[i])\n",
    "    ed_list.append(mu[i] + 1.01*e[i])\n",
    "#st=np.asarray(mu-1.01*e)\n",
    "#ed=np.asarray(mu+1.01*e)\n",
    "st = pd.Series(st_list , name = 'vector1')\n",
    "ed = pd.Series(ed_list , name = 'vector2')"
   ]
  },
  {
   "cell_type": "code",
   "execution_count": 5,
   "metadata": {},
   "outputs": [
    {
     "ename": "NameError",
     "evalue": "name 'st' is not defined",
     "output_type": "error",
     "traceback": [
      "\u001b[0;31m---------------------------------------------------------------------------\u001b[0m",
      "\u001b[0;31mNameError\u001b[0m                                 Traceback (most recent call last)",
      "\u001b[0;32m<ipython-input-5-40fad45d16b4>\u001b[0m in \u001b[0;36m<module>\u001b[0;34m()\u001b[0m\n\u001b[0;32m----> 1\u001b[0;31m \u001b[0mthisGuess\u001b[0m \u001b[0;34m=\u001b[0m \u001b[0mst\u001b[0m \u001b[0;34m+\u001b[0m \u001b[0;36m2\u001b[0m\u001b[0;34m*\u001b[0m\u001b[0;34m(\u001b[0m\u001b[0med\u001b[0m\u001b[0;34m-\u001b[0m\u001b[0mst\u001b[0m\u001b[0;34m)\u001b[0m\u001b[0;34m/\u001b[0m\u001b[0;36m10.0\u001b[0m\u001b[0;34m\u001b[0m\u001b[0m\n\u001b[0m",
      "\u001b[0;31mNameError\u001b[0m: name 'st' is not defined"
     ]
    }
   ],
   "source": [
    "thisGuess = st + 2*(ed-st)/10.0"
   ]
  },
  {
   "cell_type": "code",
   "execution_count": 6,
   "metadata": {},
   "outputs": [
    {
     "ename": "NameError",
     "evalue": "name 'thisGuess' is not defined",
     "output_type": "error",
     "traceback": [
      "\u001b[0;31m---------------------------------------------------------------------------\u001b[0m",
      "\u001b[0;31mNameError\u001b[0m                                 Traceback (most recent call last)",
      "\u001b[0;32m<ipython-input-6-7ffa21d3a92a>\u001b[0m in \u001b[0;36m<module>\u001b[0;34m()\u001b[0m\n\u001b[0;32m----> 1\u001b[0;31m \u001b[0mthisGuess\u001b[0m\u001b[0;34m.\u001b[0m\u001b[0mshape\u001b[0m\u001b[0;34m\u001b[0m\u001b[0m\n\u001b[0m\u001b[1;32m      2\u001b[0m \u001b[0mtype\u001b[0m\u001b[0;34m(\u001b[0m\u001b[0mthisGuess\u001b[0m\u001b[0;34m)\u001b[0m\u001b[0;34m\u001b[0m\u001b[0m\n",
      "\u001b[0;31mNameError\u001b[0m: name 'thisGuess' is not defined"
     ]
    }
   ],
   "source": [
    "thisGuess.shape\n",
    "type(thisGuess)"
   ]
  },
  {
   "cell_type": "code",
   "execution_count": 7,
   "metadata": {},
   "outputs": [
    {
     "ename": "NameError",
     "evalue": "name 'df' is not defined",
     "output_type": "error",
     "traceback": [
      "\u001b[0;31m---------------------------------------------------------------------------\u001b[0m",
      "\u001b[0;31mNameError\u001b[0m                                 Traceback (most recent call last)",
      "\u001b[0;32m<ipython-input-7-4783fc47907e>\u001b[0m in \u001b[0;36m<module>\u001b[0;34m()\u001b[0m\n\u001b[0;32m----> 1\u001b[0;31m \u001b[0mdf\u001b[0m\u001b[0;34m[\u001b[0m\u001b[0;34m'M0'\u001b[0m\u001b[0;34m]\u001b[0m\u001b[0;34m.\u001b[0m\u001b[0mshape\u001b[0m\u001b[0;34m\u001b[0m\u001b[0m\n\u001b[0m",
      "\u001b[0;31mNameError\u001b[0m: name 'df' is not defined"
     ]
    }
   ],
   "source": [
    "df['M0'].shape"
   ]
  },
  {
   "cell_type": "code",
   "execution_count": 8,
   "metadata": {},
   "outputs": [
    {
     "ename": "NameError",
     "evalue": "name 'mu' is not defined",
     "output_type": "error",
     "traceback": [
      "\u001b[0;31m---------------------------------------------------------------------------\u001b[0m",
      "\u001b[0;31mNameError\u001b[0m                                 Traceback (most recent call last)",
      "\u001b[0;32m<ipython-input-8-897b48e18794>\u001b[0m in \u001b[0;36m<module>\u001b[0;34m()\u001b[0m\n\u001b[0;32m----> 1\u001b[0;31m \u001b[0mmu\u001b[0m\u001b[0;34m-\u001b[0m\u001b[0mthisGuess\u001b[0m\u001b[0;34m\u001b[0m\u001b[0m\n\u001b[0m",
      "\u001b[0;31mNameError\u001b[0m: name 'mu' is not defined"
     ]
    }
   ],
   "source": [
    "mu-thisGuess"
   ]
  },
  {
   "cell_type": "code",
   "execution_count": 9,
   "metadata": {},
   "outputs": [
    {
     "ename": "NameError",
     "evalue": "name 'mu' is not defined",
     "output_type": "error",
     "traceback": [
      "\u001b[0;31m---------------------------------------------------------------------------\u001b[0m",
      "\u001b[0;31mNameError\u001b[0m                                 Traceback (most recent call last)",
      "\u001b[0;32m<ipython-input-9-773c9ffa8371>\u001b[0m in \u001b[0;36m<module>\u001b[0;34m()\u001b[0m\n\u001b[0;32m----> 1\u001b[0;31m \u001b[0mmu\u001b[0m\u001b[0;34m-\u001b[0m\u001b[0mthisGuess\u001b[0m\u001b[0;34m+\u001b[0m\u001b[0me\u001b[0m\u001b[0;34m*\u001b[0m\u001b[0mnp\u001b[0m\u001b[0;34m.\u001b[0m\u001b[0msin\u001b[0m\u001b[0;34m(\u001b[0m\u001b[0mthisGuess\u001b[0m\u001b[0;34m)\u001b[0m\u001b[0;34m\u001b[0m\u001b[0m\n\u001b[0m",
      "\u001b[0;31mNameError\u001b[0m: name 'mu' is not defined"
     ]
    }
   ],
   "source": [
    "mu-thisGuess+e*np.sin(thisGuess)"
   ]
  },
  {
   "cell_type": "code",
   "execution_count": 10,
   "metadata": {},
   "outputs": [],
   "source": [
    "def solveIter(mu,e):\n",
    "    st_list = []\n",
    "    ed_list = []\n",
    "    for i in range(len(e)):\n",
    "        st_list.append(mu[i] - 1.01*e[i])\n",
    "        ed_list.append(mu[i] + 1.01*e[i])\n",
    "    #st=np.asarray(mu-1.01*e)\n",
    "    #ed=np.asarray(mu+1.01*e)\n",
    "    st = pd.Series(st_list , name = 'vector1')\n",
    "    ed = pd.Series(ed_list , name = 'vector2')\n",
    "    print(st[0:5] , ed[0:5])\n",
    "    print(type(st[0]))\n",
    "    bestGuess=np.zeros(mu.shape)\n",
    "    \n",
    "    for i in range(5):\n",
    "        minErr = 10000*np.ones(mu.shape)\n",
    "        for j in range(5):\n",
    "            thisGuess = st + j*(ed-st)/10.0\n",
    "            thisErr = np.asarray(abs(mu-thisGuess+e*np.sin(thisGuess)))\n",
    "            mask = thisErr<minErr\n",
    "            minErr[mask] = thisErr[mask]\n",
    "            bestGuess[mask]=thisGuess[mask]\n",
    "            \n",
    "        thisRange = ed - st\n",
    "        st= bestGuess-thisRange/10.0\n",
    "        ed = bestGuess + thisRange/10.0\n",
    "    return(bestGuess)"
   ]
  },
  {
   "cell_type": "code",
   "execution_count": 11,
   "metadata": {},
   "outputs": [
    {
     "ename": "NameError",
     "evalue": "name 'mu' is not defined",
     "output_type": "error",
     "traceback": [
      "\u001b[0;31m---------------------------------------------------------------------------\u001b[0m",
      "\u001b[0;31mNameError\u001b[0m                                 Traceback (most recent call last)",
      "\u001b[0;32m<ipython-input-11-3a9f8407916d>\u001b[0m in \u001b[0;36m<module>\u001b[0;34m()\u001b[0m\n\u001b[0;32m----> 1\u001b[0;31m \u001b[0mEk\u001b[0m \u001b[0;34m=\u001b[0m \u001b[0msolveIter\u001b[0m\u001b[0;34m(\u001b[0m\u001b[0mmu\u001b[0m\u001b[0;34m,\u001b[0m\u001b[0mdf\u001b[0m\u001b[0;34m[\u001b[0m\u001b[0;34m'e'\u001b[0m\u001b[0;34m]\u001b[0m\u001b[0;34m)\u001b[0m\u001b[0;34m\u001b[0m\u001b[0m\n\u001b[0m\u001b[1;32m      2\u001b[0m \u001b[0mprint\u001b[0m\u001b[0;34m(\u001b[0m\u001b[0mEk\u001b[0m \u001b[0;34m,\u001b[0m \u001b[0mEk\u001b[0m\u001b[0;34m.\u001b[0m\u001b[0mshape\u001b[0m \u001b[0;34m,\u001b[0m \u001b[0mtype\u001b[0m\u001b[0;34m(\u001b[0m\u001b[0mEk\u001b[0m\u001b[0;34m)\u001b[0m\u001b[0;34m)\u001b[0m\u001b[0;34m\u001b[0m\u001b[0m\n\u001b[1;32m      3\u001b[0m \u001b[0;34m\u001b[0m\u001b[0m\n\u001b[1;32m      4\u001b[0m \u001b[0mEk\u001b[0m \u001b[0;34m=\u001b[0m \u001b[0mpd\u001b[0m\u001b[0;34m.\u001b[0m\u001b[0mSeries\u001b[0m\u001b[0;34m(\u001b[0m\u001b[0mEk\u001b[0m \u001b[0;34m,\u001b[0m \u001b[0mname\u001b[0m \u001b[0;34m=\u001b[0m \u001b[0;34m'Ek'\u001b[0m\u001b[0;34m)\u001b[0m\u001b[0;34m\u001b[0m\u001b[0m\n",
      "\u001b[0;31mNameError\u001b[0m: name 'mu' is not defined"
     ]
    }
   ],
   "source": [
    "Ek = solveIter(mu,df['e'])\n",
    "print(Ek , Ek.shape , type(Ek))\n",
    "\n",
    "Ek = pd.Series(Ek , name = 'Ek')"
   ]
  },
  {
   "cell_type": "code",
   "execution_count": 12,
   "metadata": {},
   "outputs": [
    {
     "ename": "NameError",
     "evalue": "name 'df' is not defined",
     "output_type": "error",
     "traceback": [
      "\u001b[0;31m---------------------------------------------------------------------------\u001b[0m",
      "\u001b[0;31mNameError\u001b[0m                                 Traceback (most recent call last)",
      "\u001b[0;32m<ipython-input-12-7a94033ad3c8>\u001b[0m in \u001b[0;36m<module>\u001b[0;34m()\u001b[0m\n\u001b[0;32m----> 1\u001b[0;31m \u001b[0mVk\u001b[0m \u001b[0;34m=\u001b[0m \u001b[0mnp\u001b[0m\u001b[0;34m.\u001b[0m\u001b[0masarray\u001b[0m\u001b[0;34m(\u001b[0m\u001b[0mnp\u001b[0m\u001b[0;34m.\u001b[0m\u001b[0marctan2\u001b[0m\u001b[0;34m(\u001b[0m\u001b[0mnp\u001b[0m\u001b[0;34m.\u001b[0m\u001b[0msqrt\u001b[0m\u001b[0;34m(\u001b[0m\u001b[0;36m1.0\u001b[0m\u001b[0;34m-\u001b[0m\u001b[0mdf\u001b[0m\u001b[0;34m[\u001b[0m\u001b[0;34m'e'\u001b[0m\u001b[0;34m]\u001b[0m\u001b[0;34m)\u001b[0m\u001b[0;34m*\u001b[0m\u001b[0mnp\u001b[0m\u001b[0;34m.\u001b[0m\u001b[0msin\u001b[0m\u001b[0;34m(\u001b[0m\u001b[0mEk\u001b[0m\u001b[0;34m)\u001b[0m\u001b[0;34m,\u001b[0m\u001b[0mnp\u001b[0m\u001b[0;34m.\u001b[0m\u001b[0mcos\u001b[0m\u001b[0;34m(\u001b[0m\u001b[0mEk\u001b[0m\u001b[0;34m)\u001b[0m\u001b[0;34m-\u001b[0m\u001b[0mdf\u001b[0m\u001b[0;34m[\u001b[0m\u001b[0;34m'e'\u001b[0m\u001b[0;34m]\u001b[0m\u001b[0;34m)\u001b[0m\u001b[0;34m,\u001b[0m\u001b[0mfloat\u001b[0m\u001b[0;34m)\u001b[0m\u001b[0;34m\u001b[0m\u001b[0m\n\u001b[0m\u001b[1;32m      2\u001b[0m \u001b[0mprint\u001b[0m\u001b[0;34m(\u001b[0m\u001b[0mVk\u001b[0m\u001b[0;34m.\u001b[0m\u001b[0mshape\u001b[0m\u001b[0;34m,\u001b[0m\u001b[0mtype\u001b[0m\u001b[0;34m(\u001b[0m\u001b[0mVk\u001b[0m\u001b[0;34m)\u001b[0m\u001b[0;34m)\u001b[0m\u001b[0;34m\u001b[0m\u001b[0m\n\u001b[1;32m      3\u001b[0m \u001b[0;34m\u001b[0m\u001b[0m\n\u001b[1;32m      4\u001b[0m \u001b[0mVk\u001b[0m \u001b[0;34m=\u001b[0m \u001b[0mpd\u001b[0m\u001b[0;34m.\u001b[0m\u001b[0mSeries\u001b[0m\u001b[0;34m(\u001b[0m\u001b[0mVk\u001b[0m \u001b[0;34m,\u001b[0m \u001b[0mname\u001b[0m \u001b[0;34m=\u001b[0m \u001b[0;34m'Vk'\u001b[0m\u001b[0;34m)\u001b[0m\u001b[0;34m\u001b[0m\u001b[0m\n",
      "\u001b[0;31mNameError\u001b[0m: name 'df' is not defined"
     ]
    }
   ],
   "source": [
    "Vk = np.asarray(np.arctan2(np.sqrt(1.0-df['e'])*np.sin(Ek),np.cos(Ek)-df['e']),float)\n",
    "print(Vk.shape,type(Vk))\n",
    "\n",
    "Vk = pd.Series(Vk , name = 'Vk')"
   ]
  },
  {
   "cell_type": "code",
   "execution_count": 13,
   "metadata": {},
   "outputs": [
    {
     "ename": "NameError",
     "evalue": "name 'Vk' is not defined",
     "output_type": "error",
     "traceback": [
      "\u001b[0;31m---------------------------------------------------------------------------\u001b[0m",
      "\u001b[0;31mNameError\u001b[0m                                 Traceback (most recent call last)",
      "\u001b[0;32m<ipython-input-13-c503128bf7fa>\u001b[0m in \u001b[0;36m<module>\u001b[0;34m()\u001b[0m\n\u001b[0;32m----> 1\u001b[0;31m \u001b[0mPhiK\u001b[0m \u001b[0;34m=\u001b[0m \u001b[0mVk\u001b[0m \u001b[0;34m+\u001b[0m \u001b[0mdf\u001b[0m\u001b[0;34m[\u001b[0m\u001b[0;34m'omega'\u001b[0m\u001b[0;34m]\u001b[0m\u001b[0;34m\u001b[0m\u001b[0m\n\u001b[0m\u001b[1;32m      2\u001b[0m \u001b[0mprint\u001b[0m\u001b[0;34m(\u001b[0m\u001b[0mPhiK\u001b[0m\u001b[0;34m.\u001b[0m\u001b[0mshape\u001b[0m\u001b[0;34m,\u001b[0m\u001b[0mtype\u001b[0m\u001b[0;34m(\u001b[0m\u001b[0mPhiK\u001b[0m\u001b[0;34m)\u001b[0m\u001b[0;34m)\u001b[0m\u001b[0;34m\u001b[0m\u001b[0m\n\u001b[1;32m      3\u001b[0m \u001b[0mprint\u001b[0m\u001b[0;34m(\u001b[0m\u001b[0mt\u001b[0m\u001b[0;34m.\u001b[0m\u001b[0mshape\u001b[0m\u001b[0;34m,\u001b[0m\u001b[0mtype\u001b[0m\u001b[0;34m(\u001b[0m\u001b[0mt\u001b[0m\u001b[0;34m)\u001b[0m\u001b[0;34m)\u001b[0m\u001b[0;34m\u001b[0m\u001b[0m\n",
      "\u001b[0;31mNameError\u001b[0m: name 'Vk' is not defined"
     ]
    }
   ],
   "source": [
    "PhiK = Vk + df['omega']\n",
    "print(PhiK.shape,type(PhiK))\n",
    "print(t.shape,type(t))"
   ]
  },
  {
   "cell_type": "code",
   "execution_count": 14,
   "metadata": {},
   "outputs": [
    {
     "ename": "NameError",
     "evalue": "name 'df' is not defined",
     "output_type": "error",
     "traceback": [
      "\u001b[0;31m---------------------------------------------------------------------------\u001b[0m",
      "\u001b[0;31mNameError\u001b[0m                                 Traceback (most recent call last)",
      "\u001b[0;32m<ipython-input-14-bb5c2087b4f1>\u001b[0m in \u001b[0;36m<module>\u001b[0;34m()\u001b[0m\n\u001b[1;32m      1\u001b[0m \u001b[0;31m#Correct for orbital perturbations\u001b[0m\u001b[0;34m\u001b[0m\u001b[0;34m\u001b[0m\u001b[0m\n\u001b[0;32m----> 2\u001b[0;31m \u001b[0momega\u001b[0m \u001b[0;34m=\u001b[0m \u001b[0mnp\u001b[0m\u001b[0;34m.\u001b[0m\u001b[0masarray\u001b[0m\u001b[0;34m(\u001b[0m\u001b[0mdf\u001b[0m\u001b[0;34m[\u001b[0m\u001b[0;34m'omega'\u001b[0m\u001b[0;34m]\u001b[0m\u001b[0;34m+\u001b[0m\u001b[0mdf\u001b[0m\u001b[0;34m[\u001b[0m\u001b[0;34m'Cus'\u001b[0m\u001b[0;34m]\u001b[0m\u001b[0;34m*\u001b[0m\u001b[0mnp\u001b[0m\u001b[0;34m.\u001b[0m\u001b[0msin\u001b[0m\u001b[0;34m(\u001b[0m\u001b[0;36m2.0\u001b[0m\u001b[0;34m*\u001b[0m\u001b[0mPhiK\u001b[0m\u001b[0;34m)\u001b[0m\u001b[0;34m+\u001b[0m\u001b[0mdf\u001b[0m\u001b[0;34m[\u001b[0m\u001b[0;34m'Cuc'\u001b[0m\u001b[0;34m]\u001b[0m\u001b[0;34m*\u001b[0m\u001b[0mnp\u001b[0m\u001b[0;34m.\u001b[0m\u001b[0mcos\u001b[0m\u001b[0;34m(\u001b[0m\u001b[0;36m2.0\u001b[0m\u001b[0;34m*\u001b[0m\u001b[0mPhiK\u001b[0m\u001b[0;34m)\u001b[0m\u001b[0;34m,\u001b[0m\u001b[0mfloat\u001b[0m\u001b[0;34m)\u001b[0m\u001b[0;34m\u001b[0m\u001b[0m\n\u001b[0m\u001b[1;32m      3\u001b[0m \u001b[0mprint\u001b[0m\u001b[0;34m(\u001b[0m\u001b[0momega\u001b[0m\u001b[0;34m.\u001b[0m\u001b[0mshape\u001b[0m\u001b[0;34m,\u001b[0m\u001b[0mtype\u001b[0m\u001b[0;34m(\u001b[0m\u001b[0momega\u001b[0m\u001b[0;34m)\u001b[0m\u001b[0;34m)\u001b[0m\u001b[0;34m\u001b[0m\u001b[0m\n\u001b[1;32m      4\u001b[0m \u001b[0mr\u001b[0m \u001b[0;34m=\u001b[0m \u001b[0mnp\u001b[0m\u001b[0;34m.\u001b[0m\u001b[0masarray\u001b[0m\u001b[0;34m(\u001b[0m\u001b[0;34m(\u001b[0m\u001b[0mdf\u001b[0m\u001b[0;34m[\u001b[0m\u001b[0;34m'sqrt_A'\u001b[0m\u001b[0;34m]\u001b[0m\u001b[0;34m**\u001b[0m\u001b[0;36m2\u001b[0m\u001b[0;34m)\u001b[0m\u001b[0;34m*\u001b[0m\u001b[0;34m(\u001b[0m\u001b[0;36m1.0\u001b[0m\u001b[0;34m-\u001b[0m\u001b[0mdf\u001b[0m\u001b[0;34m[\u001b[0m\u001b[0;34m'e'\u001b[0m\u001b[0;34m]\u001b[0m\u001b[0;34m*\u001b[0m\u001b[0mnp\u001b[0m\u001b[0;34m.\u001b[0m\u001b[0mcos\u001b[0m\u001b[0;34m(\u001b[0m\u001b[0mEk\u001b[0m\u001b[0;34m)\u001b[0m\u001b[0;34m)\u001b[0m\u001b[0;34m+\u001b[0m\u001b[0mdf\u001b[0m\u001b[0;34m[\u001b[0m\u001b[0;34m'Crs'\u001b[0m\u001b[0;34m]\u001b[0m\u001b[0;34m*\u001b[0m\u001b[0mnp\u001b[0m\u001b[0;34m.\u001b[0m\u001b[0msin\u001b[0m\u001b[0;34m(\u001b[0m\u001b[0;36m2.0\u001b[0m\u001b[0;34m*\u001b[0m\u001b[0mPhiK\u001b[0m\u001b[0;34m)\u001b[0m\u001b[0;34m+\u001b[0m\u001b[0mdf\u001b[0m\u001b[0;34m[\u001b[0m\u001b[0;34m'Crc'\u001b[0m\u001b[0;34m]\u001b[0m\u001b[0;34m*\u001b[0m\u001b[0mnp\u001b[0m\u001b[0;34m.\u001b[0m\u001b[0mcos\u001b[0m\u001b[0;34m(\u001b[0m\u001b[0;36m2.0\u001b[0m\u001b[0;34m*\u001b[0m\u001b[0mPhiK\u001b[0m\u001b[0;34m)\u001b[0m\u001b[0;34m,\u001b[0m\u001b[0mfloat\u001b[0m\u001b[0;34m)\u001b[0m\u001b[0;34m\u001b[0m\u001b[0m\n\u001b[1;32m      5\u001b[0m \u001b[0mi\u001b[0m \u001b[0;34m=\u001b[0m \u001b[0mnp\u001b[0m\u001b[0;34m.\u001b[0m\u001b[0masarray\u001b[0m\u001b[0;34m(\u001b[0m\u001b[0mdf\u001b[0m\u001b[0;34m[\u001b[0m\u001b[0;34m'i0'\u001b[0m\u001b[0;34m]\u001b[0m\u001b[0;34m+\u001b[0m\u001b[0mdf\u001b[0m\u001b[0;34m[\u001b[0m\u001b[0;34m'I_dot'\u001b[0m\u001b[0;34m]\u001b[0m\u001b[0;34m*\u001b[0m\u001b[0mt\u001b[0m\u001b[0;34m.\u001b[0m\u001b[0miloc\u001b[0m\u001b[0;34m[\u001b[0m\u001b[0;34m:\u001b[0m\u001b[0;34m,\u001b[0m\u001b[0;36m0\u001b[0m\u001b[0;34m]\u001b[0m\u001b[0;34m+\u001b[0m\u001b[0mdf\u001b[0m\u001b[0;34m[\u001b[0m\u001b[0;34m'Cis'\u001b[0m\u001b[0;34m]\u001b[0m\u001b[0;34m*\u001b[0m\u001b[0mnp\u001b[0m\u001b[0;34m.\u001b[0m\u001b[0msin\u001b[0m\u001b[0;34m(\u001b[0m\u001b[0;36m2.0\u001b[0m\u001b[0;34m*\u001b[0m\u001b[0mPhiK\u001b[0m\u001b[0;34m)\u001b[0m\u001b[0;34m+\u001b[0m\u001b[0mdf\u001b[0m\u001b[0;34m[\u001b[0m\u001b[0;34m'Cic'\u001b[0m\u001b[0;34m]\u001b[0m\u001b[0;34m*\u001b[0m\u001b[0mnp\u001b[0m\u001b[0;34m.\u001b[0m\u001b[0mcos\u001b[0m\u001b[0;34m(\u001b[0m\u001b[0;36m2.0\u001b[0m\u001b[0;34m*\u001b[0m\u001b[0mPhiK\u001b[0m\u001b[0;34m)\u001b[0m\u001b[0;34m,\u001b[0m\u001b[0mfloat\u001b[0m\u001b[0;34m)\u001b[0m\u001b[0;34m\u001b[0m\u001b[0m\n",
      "\u001b[0;31mNameError\u001b[0m: name 'df' is not defined"
     ]
    }
   ],
   "source": [
    "#Correct for orbital perturbations\n",
    "omega = np.asarray(df['omega']+df['Cus']*np.sin(2.0*PhiK)+df['Cuc']*np.cos(2.0*PhiK),float)\n",
    "print(omega.shape,type(omega))\n",
    "r = np.asarray((df['sqrt_A']**2)*(1.0-df['e']*np.cos(Ek))+df['Crs']*np.sin(2.0*PhiK)+df['Crc']*np.cos(2.0*PhiK),float)\n",
    "i = np.asarray(df['i0']+df['I_dot']*t.iloc[:,0]+df['Cis']*np.sin(2.0*PhiK)+df['Cic']*np.cos(2.0*PhiK),float)\n",
    "\n",
    "print(r.shape,type(r))\n",
    "print(i.shape,type(i))"
   ]
  },
  {
   "cell_type": "code",
   "execution_count": 21,
   "metadata": {},
   "outputs": [
    {
     "name": "stdout",
     "output_type": "stream",
     "text": [
      "(177,) <class 'numpy.ndarray'>\n"
     ]
    }
   ],
   "source": [
    "#Compute the right ascension\n",
    "OeDOT = 7.2921151467E-5\n",
    "Omega = np.asarray(df['OMEGA']+(df['OMEGA_dot']-OeDOT)*t.iloc[:,0]-(OeDOT*df['Toe']),float)\n",
    "print(Omega.shape,type(Omega))"
   ]
  },
  {
   "cell_type": "code",
   "execution_count": 22,
   "metadata": {},
   "outputs": [],
   "source": [
    "#Convert satellite position from orbital frame to ECEF frame\n",
    "#Convert satellite position from orbital frame to ECEF frame\n",
    "cosOmega = np.cos(Omega)\n",
    "sinOmega = np.sin(Omega)\n",
    "cosomega = np.cos(omega)\n",
    "sinomega = np.sin(omega)\n",
    "cosi = np.cos(i)\n",
    "sini = np.sin(i)\n",
    "cosVk = np.cos(Vk)\n",
    "sinVk = np.sin(Vk)"
   ]
  },
  {
   "cell_type": "code",
   "execution_count": 23,
   "metadata": {},
   "outputs": [
    {
     "name": "stdout",
     "output_type": "stream",
     "text": [
      "(177,) <class 'numpy.ndarray'>\n",
      "(177,) <class 'numpy.ndarray'>\n"
     ]
    }
   ],
   "source": [
    "print(cosOmega.shape,type(cosOmega))\n",
    "print(sinOmega.shape,type(sinOmega))"
   ]
  },
  {
   "cell_type": "code",
   "execution_count": 24,
   "metadata": {},
   "outputs": [],
   "source": [
    "R11 = cosOmega*cosomega - sinOmega*sinomega*cosi\n",
    "R12 = -1.0*cosOmega*sinomega - sinOmega*cosomega*cosi\n",
    "#R13 = np.sin(Omega)*np.sin(i)\n",
    "R21 = sinOmega*cosomega + cosOmega*sinomega*cosi\n",
    "R22 = -1.0*sinOmega*sinomega + cosOmega*cosomega*cosi\n",
    "#R23 = -1.0*np.cos(Omega)*np.sin(i)\n",
    "R31 = sinomega*sini\n",
    "R32 = cosomega*sini\n",
    "#R33 = np.cos(i)\n"
   ]
  },
  {
   "cell_type": "code",
   "execution_count": 25,
   "metadata": {},
   "outputs": [],
   "source": [
    "xyz = np.zeros((len(df),3))\n",
    "rv = np.column_stack((r*cosVk,r*sinVk,np.zeros(r.shape)))\n",
    "\n",
    "R = np.empty((rv.shape[0],3,3))\n",
    "R[:,0,0] = R11\n",
    "R[:,0,1] = R12\n",
    "R[:,0,2] = 0\n",
    "R[:,1,0] = R21\n",
    "R[:,1,1] = R22\n",
    "R[:,1,2] = 0\n",
    "R[:,2,0] = R31\n",
    "R[:,2,1] = R32\n",
    "R[:,2,2] = 0"
   ]
  },
  {
   "cell_type": "code",
   "execution_count": 26,
   "metadata": {},
   "outputs": [],
   "source": [
    "#R = np.array([[R11[i],R12[i],0],\n",
    "#              [R21[i],R22[i],0],\n",
    "#              [R31[i],R32[i],0]])\n",
    "for i in range(len(df)): #THIS IS THE SLOWEST PART NOW\n",
    "    xyz[i,:] = (R[i,:,:].dot(rv[i,:]))"
   ]
  },
  {
   "cell_type": "code",
   "execution_count": 27,
   "metadata": {},
   "outputs": [
    {
     "name": "stdout",
     "output_type": "stream",
     "text": [
      "7007199.15934 -4467819.62081 25081547.2201\n",
      "14729093.2142 18150465.8435 12775012.8415\n",
      "22252918.9602 11002070.068 -9947768.20958\n",
      "6682339.66623 3726834.22501 -25578736.0556\n",
      "-560964.389721 10635085.3154 -24399823.5988\n",
      "-9109141.18425 24620151.1258 -3000979.33376\n",
      "9444592.6425 -24150384.3745 4899769.67439\n",
      "-398451.946563 -2056215.98457 26353916.4014\n",
      "10252709.7414 21918297.1287 11165284.5131\n",
      "21027871.5203 8301284.47243 -14297166.9637\n",
      "1786815.72442 -2742456.66464 -26482214.6854\n",
      "-8719771.58554 7758989.91554 -23893842.9427\n",
      "13237532.5048 -22741972.5699 -2349448.86834\n",
      "-3877475.82396 -10375326.9973 23970075.8666\n",
      "-776563.286036 21502093.4412 15642106.1538\n",
      "22210029.3143 11809549.4596 -9080628.43898\n",
      "7270799.42489 -9934935.78227 -23705820.1704\n",
      "-10222324.6205 -785682.182247 -24559844.7914\n",
      "18670016.5452 -13308805.0207 -13268526.4268\n",
      "5262330.13845 -21088671.9232 14934687.9144\n",
      "-13872520.0397 9601928.01135 20438273.9508\n",
      "13607200.8031 22559237.7094 4257157.74589\n",
      "21150826.2255 -6435928.43026 -15056652.1243\n",
      "589847.667774 -9972822.77566 -24745549.2452\n",
      "18166981.4683 -6306870.04617 -18291438.584\n",
      "14025357.8272 -21787908.5896 4989709.14576\n",
      "-15259842.5932 -1470467.47039 21544075.1347\n",
      "583281.788982 21868434.0994 15113664.1374\n",
      "25913840.3415 2742076.23612 -5985191.11172\n",
      "12298120.5016 -9813416.66159 -21612684.4241\n",
      "10187093.4565 1322489.68659 -24558248.3204\n",
      "19343624.4108 -14384037.0222 -10937438.1151\n",
      "-7301581.23907 -15392783.1364 20146874.1704\n",
      "-10146480.1999 4621573.75015 23983585.7022\n",
      "21506562.3829 13026990.7291 8865562.57985\n",
      "25022286.8549 -1459437.43486 -9323441.49035\n",
      "2141958.14685 -514482.007082 -26567122.0316\n",
      "13000021.3916 -11286568.8024 -20206138.1726\n",
      "378572.667243 -20041700.5579 17136728.2554\n",
      "-7330645.38847 -9377590.79587 23556227.3254\n",
      "17926304.262 8961564.80804 17490107.8673\n",
      "26594553.0809 -333634.414538 2367631.69169\n",
      "-1244219.03357 -7134140.09359 -25651817.4316\n",
      "5946468.54659 -14984465.3018 -21109861.9459\n",
      "2994067.96618 -20097806.0883 16809916.5237\n",
      "-1799679.60935 -12461050.0992 23197128.2822\n",
      "21083599.7035 921983.471703 16203640.3426\n",
      "25874774.7097 -5634677.72664 3374519.81488\n",
      "-893238.291984 -15023788.5874 -21945825.2351\n",
      "2667505.78278 -21278763.9095 -15597431.7871\n",
      "4321731.67116 -17199817.5199 19526095.5623\n",
      "8125127.20757 -9673581.89717 23232264.2652\n",
      "25518098.0924 -3429463.87753 6958163.38524\n",
      "25558992.0375 -6458677.81231 -4439142.94809\n",
      "2015579.88813 -21647728.9483 -15209116.1856\n",
      "3688516.51828 -25655312.1844 -5215874.9004\n",
      "7095537.71644 -11659423.366 22604253.8167\n",
      "19728150.8867 -3651311.21632 17402120.6178\n",
      "26149901.5828 -1441232.23663 -5380032.95483\n",
      "22981417.9835 1333577.61409 -13615382.9673\n",
      "6534958.28489 -24866501.8893 -6200783.40087\n",
      "7626261.97958 -24193712.9792 7234989.94689\n",
      "10846828.3795 -4153135.0856 23775639.7481\n",
      "25740750.6668 3433388.02953 6098048.62108\n",
      "21008475.252 3971335.08708 -16067703.8569\n",
      "14605181.1284 12560843.5587 -18450720.8161\n",
      "10500622.3576 -22427539.4348 9076738.82472\n",
      "11151211.3674 -12106798.7898 20638903.2342\n",
      "17565043.6094 6992776.34821 18678497.1253\n",
      "23447100.6651 6931832.37898 -10844483.235\n",
      "7594989.424 10344025.8141 -23380195.2814\n",
      "199814.164375 22532793.2031 -13986488.5201\n",
      "10182912.2128 -16889248.8281 17512025.0024\n",
      "10604982.6137 -309485.389367 24240716.0584\n",
      "19202357.4325 12691537.3516 13398216.2915\n",
      "19303344.5811 5610073.56567 -17645590.4841\n",
      "-1796555.30935 10641564.7396 -24335174.1881\n",
      "-8080317.53434 23833409.7561 -8157424.34171\n",
      "6683076.53933 -12280501.7283 22378869.663\n",
      "6815430.1446 8162322.74914 24283180.5383\n",
      "18681534.2006 16580391.044 9328207.59484\n",
      "18590624.7498 2704736.5441 -19038708.3956\n",
      "-7279106.94154 6838502.49543 -24660731.0459\n",
      "-12306734.2071 22558066.0014 -6220519.2774\n",
      "2637892.5185 -11902637.451 23405713.8716\n",
      "988549.028886 10850944.9746 24177867.839\n",
      "16025708.7464 19656447.069 8248112.78395\n",
      "21624453.3271 2075429.08295 -15608059.7082\n",
      "-7434135.56957 167813.06272 -25567948.7499\n",
      "-15377978.564 18958520.2744 -10214748.461\n",
      "2064998.50156 -16126387.2082 20774285.4747\n",
      "-5406283.52946 6796366.15881 25025536.6144\n",
      "10744056.8279 22121383.0804 10275020.1755\n",
      "24719026.4703 5893268.67974 -8324975.53407\n",
      "-1611419.45254 -6171793.41024 -25896288.2387\n",
      "-16456898.3021 10946842.0617 -17684832.5941\n",
      "7647224.15346 -20813698.6961 14274769.0346\n",
      "-8560838.66003 -3673923.5088 24738105.8523\n",
      "3078902.063 22153736.1249 14425489.8858\n",
      "23804215.3204 12073211.68 958187.730568\n",
      "8302955.51375 -8079718.53024 -24072975.0144\n",
      "-11421822.1413 508100.837058 -24023637.6005\n",
      "16504250.3974 -20164767.4731 4181238.73438\n",
      "-4456983.98231 -15765692.7353 20682066.0871\n",
      "-4295191.99536 17751990.9836 19284099.4419\n",
      "18919130.9017 15936504.0076 9931926.7707\n",
      "17687702.5573 -4577839.78137 -19530423.8132\n",
      "-705205.382673 -6170721.82009 -25948385.2269\n",
      "18466956.5049 -18846511.4162 -1198242.72438\n",
      "-1385583.16276 -19601829.7147 17590624.6569\n",
      "-3760318.76499 16237654.901 20664539.7363\n",
      "19417643.059 14284693.6092 11357862.587\n",
      "19138831.6241 -3178407.44366 -18412492.9673\n",
      "3237214.96751 -5583488.98672 -25907518.7592\n",
      "19139768.2546 -14027256.4017 -11738056.3343\n",
      "5565948.16353 -23845774.9159 9804914.93972\n",
      "-4614360.12162 8932486.45952 24514641.3937\n",
      "17112608.9706 12457870.2206 16129834.0552\n",
      "23241915.382 462241.010565 -13231448.2532\n",
      "10670185.8121 -4537235.67193 -24080451.6465\n",
      "14536451.0442 -12425344.6661 -18383690.4232\n",
      "7897587.02142 -24893841.7424 3811266.64887\n",
      "-2018295.94065 2879093.32091 26227000.4174\n",
      "17579430.6858 9073196.56785 17778841.0189\n",
      "25031211.234 1692645.32778 -9258957.85411\n",
      "14058658.6178 -1942718.63158 -22655097.3505\n",
      "9034915.6467 -14559085.8595 -20280090.8447\n",
      "6528354.40086 -25458807.1377 2464913.49274\n",
      "1950924.9494 -749188.480435 26364788.4201\n",
      "20128557.1492 5632550.63063 16462580.3954\n",
      "25552540.7599 869243.628316 -7831257.86144\n",
      "14341585.4477 1808622.36339 -22479452.3091\n",
      "5351130.76357 -18873256.258 -17867817.7468\n",
      "4705760.47842 -25141042.2203 6473026.28629\n",
      "6505784.45723 -1749389.43381 25583388.0974\n",
      "23508637.8761 3051086.48313 12148987.4959\n",
      "25200215.7676 -357981.782197 -8946195.88786\n",
      "12343163.88 7300893.06487 -22520014.9458\n",
      "4327317.56247 -23417672.4415 -11590222.2537\n",
      "5304114.78752 -21888437.9347 13718627.0767\n",
      "11864507.1989 -497185.020262 23678537.2106\n",
      "26099651.7792 1877027.01806 5225175.95297\n",
      "23856288.1662 -539292.533815 -12087386.7447\n",
      "8695883.09751 13931707.6642 -20980135.5371\n",
      "-2298649.86428 -21364572.571 -15595724.8755\n",
      "6042436.62176 -25644794.5675 -1938330.22973\n",
      "9060600.44118 -14280198.6533 20264091.8929\n",
      "17850498.1237 2535704.77624 19492528.2493\n",
      "26399125.6701 2390212.74774 -3430451.29854\n",
      "21152954.5973 1199823.71091 -16323212.1091\n",
      "3741779.0815 20078798.1463 -16986250.0883\n",
      "4050501.16328 -25815774.5085 -3978118.1836\n",
      "9554575.53702 -20240124.8457 13946614.605\n",
      "16397396.1151 1215978.17568 20802026.1807\n",
      "24837731.2083 7444840.24723 6271387.22726\n",
      "20189146.5313 5014229.78193 -16810134.7745\n",
      "13154543.6166 7907379.67176 -21836256.1738\n",
      "-2583572.54138 25643850.5764 -5918024.98973\n",
      "6839651.63873 -25101170.4464 4412730.77392\n",
      "11153866.6805 -9820973.19586 21827993.7877\n",
      "19710365.0231 11376549.7819 13809771.5742\n",
      "24447159.4484 9161401.95778 -5759594.39782\n",
      "11929157.3173 7326656.74569 -22747758.2405\n",
      "6037948.07694 13169621.5187 -22340651.1435\n",
      "-4850924.43101 25886895.785 1804591.61556\n",
      "9104950.86484 2104978.25492 24767146.1817\n",
      "20185954.966 16799082.5234 4759636.83407\n",
      "19367358.4901 7402133.8369 -16900838.1148\n",
      "1997054.93054 7910583.54928 -25377510.3307\n",
      "-2301071.90399 17352548.2513 -19972025.648\n",
      "-4420652.22754 25038624.6629 7039494.22951\n",
      "3506192.31293 9590983.96848 24468256.9898\n",
      "19356207.1206 18410079.4829 -224182.752592\n",
      "14147588.8481 1966214.01903 -22600896.0705\n",
      "-6102776.47739 5119454.90878 -25400225.7795\n",
      "-9770289.94953 18535360.2333 -16237085.0\n",
      "-3462631.62151 25181933.0143 7066707.31378\n"
     ]
    }
   ],
   "source": [
    "#print(a)\n",
    "for i in range(len(df)):\n",
    "    a=xyz[i][0]\n",
    "    b=xyz[i][1]\n",
    "    c=xyz[i][2]\n",
    "    #print(mp.sqrt((xyz[i][0]-a)**2+(xyz[i][1]-b)**2+(xyz[i][2]-c)**2))\n",
    "    print(str(a)+\" \"+str(b)+\" \"+str(c))"
   ]
  },
  {
   "cell_type": "code",
   "execution_count": 28,
   "metadata": {},
   "outputs": [
    {
     "data": {
      "text/plain": [
       "<matplotlib.figure.Figure at 0x7fe21c9c1d68>"
      ]
     },
     "metadata": {},
     "output_type": "display_data"
    }
   ],
   "source": [
    "import matplotlib.pyplot as plt\n",
    "plt.scatter(xyz[:,2],xyz[:,1])\n",
    "plt.show()"
   ]
  },
  {
   "cell_type": "code",
   "execution_count": 29,
   "metadata": {},
   "outputs": [
    {
     "data": {
      "image/png": "[encoded data removed]",
      "text/plain": [
       "<matplotlib.figure.Figure at 0x7fe219ab5cc0>"
      ]
     },
     "metadata": {
      "needs_background": "light"
     },
     "output_type": "display_data"
    }
   ],
   "source": [
    "plt.scatter(xyz[:,0],xyz[:,1])\n",
    "plt.show()"
   ]
  },
  {
   "cell_type": "code",
   "execution_count": 30,
   "metadata": {},
   "outputs": [
    {
     "data": {
      "image/png": "[encoded data removed]",
      "text/plain": [
       "<matplotlib.figure.Figure at 0x7fe219ab59e8>"
      ]
     },
     "metadata": {
      "needs_background": "light"
     },
     "output_type": "display_data"
    }
   ],
   "source": [
    "plt.scatter(xyz[:,2],xyz[:,0])\n",
    "plt.show()"
   ]
  },
  {
   "cell_type": "code",
   "execution_count": 1,
   "metadata": {},
   "outputs": [
    {
     "ename": "NameError",
     "evalue": "name 'df' is not defined",
     "output_type": "error",
     "traceback": [
      "\u001b[0;31m---------------------------------------------------------------------------\u001b[0m",
      "\u001b[0;31mNameError\u001b[0m                                 Traceback (most recent call last)",
      "\u001b[0;32m<ipython-input-1-9e112543b788>\u001b[0m in \u001b[0;36m<module>\u001b[0;34m()\u001b[0m\n\u001b[0;32m----> 1\u001b[0;31m \u001b[0mlen\u001b[0m\u001b[0;34m(\u001b[0m\u001b[0mdf\u001b[0m\u001b[0;34m)\u001b[0m\u001b[0;34m\u001b[0m\u001b[0m\n\u001b[0m",
      "\u001b[0;31mNameError\u001b[0m: name 'df' is not defined"
     ]
    }
   ],
   "source": [
    "len(df)"
   ]
  },
  {
   "cell_type": "code",
   "execution_count": null,
   "metadata": {},
   "outputs": [],
   "source": []
  }
 ],
 "metadata": {
  "kernelspec": {
   "display_name": "Python 3",
   "language": "python",
   "name": "python3"
  },
  "language_info": {
   "codemirror_mode": {
    "name": "ipython",
    "version": 3
   },
   "file_extension": ".py",
   "mimetype": "text/x-python",
   "name": "python",
   "nbconvert_exporter": "python",
   "pygments_lexer": "ipython3",
   "version": "3.6.4"
  }
 },
 "nbformat": 4,
 "nbformat_minor": 2
}
