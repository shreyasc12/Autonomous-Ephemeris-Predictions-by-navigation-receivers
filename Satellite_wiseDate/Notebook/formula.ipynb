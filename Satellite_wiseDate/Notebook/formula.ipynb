{
 "cells": [
  {
   "cell_type": "code",
   "execution_count": 10,
   "metadata": {},
   "outputs": [],
   "source": [
    "import numpy as np\n",
    "import pandas as pd\n",
    "\n",
    "pd.options.display.float_format='{:,.20}'.format\n",
    "np.set_printoptions(precision=15)\n",
    "\n",
    "df=pd.read_csv('1.csv')"
   ]
  },
  {
   "cell_type": "code",
   "execution_count": 2,
   "metadata": {},
   "outputs": [],
   "source": [
    "from astropy.constants import G\n",
    "from astropy import constants as const"
   ]
  },
  {
   "cell_type": "code",
   "execution_count": 3,
   "metadata": {},
   "outputs": [],
   "source": [
    "sqr_A=np.square(df['sqrt_A'])\n",
    "#sqr_A"
   ]
  },
  {
   "cell_type": "code",
   "execution_count": 4,
   "metadata": {},
   "outputs": [],
   "source": [
    "import math as mp \n",
    "cub_A=np.power(sqr_A,3)\n",
    "#print(cub_A)\n",
    "#print(const.GM_earth.value)\n",
    "per=cub_A.rdiv(const.GM_earth.value)\n",
    "#print(per)\n",
    "sqrt_per=np.power(per,0.5)\n",
    "#print(sqrt_per)\n",
    "period=sqrt_per.rdiv(2*mp.pi)\n",
    "#print(period)"
   ]
  },
  {
   "cell_type": "code",
   "execution_count": 5,
   "metadata": {},
   "outputs": [],
   "source": [
    "n0=sqrt_per\n",
    "n=n0+df['Del_n']"
   ]
  },
  {
   "cell_type": "code",
   "execution_count": 6,
   "metadata": {},
   "outputs": [],
   "source": [
    "df1 = pd.to_datetime(df['Epoch_Time_of_Clock'])\n",
    "df['Epoch_Time_of_Clock']=df1\n",
    "df.index = pd.to_datetime(df['Epoch_Time_of_Clock'],format='%Y-%m-%d %H:%M:%S')"
   ]
  },
  {
   "cell_type": "code",
   "execution_count": 7,
   "metadata": {},
   "outputs": [],
   "source": [
    "df3=df['Toe']\n",
    "tk=pd.DataFrame(columns=['Time'])\n",
    "for i in range(0,len(df1)):\n",
    "    seconds=int(round(df1[i].timestamp()))\n",
    "    tk.loc[i]=seconds-df3[i]\n",
    "#tk"
   ]
  },
  {
   "cell_type": "code",
   "execution_count": 8,
   "metadata": {},
   "outputs": [
    {
     "ename": "NameError",
     "evalue": "name 'solveIter' is not defined",
     "output_type": "error",
     "traceback": [
      "\u001b[0;31m---------------------------------------------------------------------------\u001b[0m",
      "\u001b[0;31mNameError\u001b[0m                                 Traceback (most recent call last)",
      "\u001b[0;32m<ipython-input-8-30a3d7e49eb5>\u001b[0m in \u001b[0;36m<module>\u001b[0;34m()\u001b[0m\n\u001b[1;32m      1\u001b[0m \u001b[0mdf4\u001b[0m \u001b[0;34m=\u001b[0m \u001b[0mpd\u001b[0m\u001b[0;34m.\u001b[0m\u001b[0mDataFrame\u001b[0m\u001b[0;34m(\u001b[0m\u001b[0;34m)\u001b[0m\u001b[0;34m\u001b[0m\u001b[0m\n\u001b[0;32m----> 2\u001b[0;31m \u001b[0mEk\u001b[0m\u001b[0;34m=\u001b[0m\u001b[0msolveIter\u001b[0m\u001b[0;34m\u001b[0m\u001b[0m\n\u001b[0m",
      "\u001b[0;31mNameError\u001b[0m: name 'solveIter' is not defined"
     ]
    }
   ],
   "source": [
    "df4 = pd.DataFrame()\n",
    "Ek=solveIter"
   ]
  },
  {
   "cell_type": "code",
   "execution_count": null,
   "metadata": {},
   "outputs": [],
   "source": [
    "\n",
    "df4 = df['M0']\n",
    "a = []\n",
    "for i in range(0,len(df3)):\n",
    "    a.append(df4[i]+n[i]*tk.iloc[i , 0])\n",
    "Mk=pd.Series(data = a ,name='Mean_Anomaly')"
   ]
  },
  {
   "cell_type": "code",
   "execution_count": null,
   "metadata": {},
   "outputs": [],
   "source": [
    "import sympy as sym"
   ]
  },
  {
   "cell_type": "code",
   "execution_count": null,
   "metadata": {},
   "outputs": [],
   "source": [
    "E=sym.Symbol('E')\n",
    "r=[]\n",
    "df5=df['e']\n",
    "for i in range(0,5):\n",
    "    sym.eqn=E-df5[i]*sym.sin(E)-Mk[i]\n",
    "    #s = sym.sin(E)\n",
    "    #sol = solve(E - '%.6f'%(df5[i]) * s - '%.6f'%(Mk[i]), E)\n",
    "    sym.solx=sym.solve(sym.eqn,E)\n",
    "    print(solx)\n",
    "    #Ek=(solx)\n",
    "    r.append(solx)\n",
    "r"
   ]
  },
  {
   "cell_type": "code",
   "execution_count": null,
   "metadata": {},
   "outputs": [],
   "source": [
    "ec=df['e']\n",
    "delta=10**(-15)"
   ]
  },
  {
   "cell_type": "code",
   "execution_count": null,
   "metadata": {},
   "outputs": [],
   "source": [
    "E=Mk\n",
    "F=[]\n",
    "for i in range (0,5):\n",
    "    F.append(E[i] - ec[i]*mp.sin(E[i]) - Mk[i]) \n",
    "    while ((mp..abs(F[i])>delta) && (i<_maxiter)) \n",
    "        E = E - F/(1.0-(ec* Math.cos(E) )); \n",
    "        F = E - ec * Math.sin(E) - am; \n",
    "        i = i + 1;\n",
    "    \n",
    "F"
   ]
  },
  {
   "cell_type": "code",
   "execution_count": 9,
   "metadata": {},
   "outputs": [
    {
     "ename": "SyntaxError",
     "evalue": "invalid syntax (<ipython-input-9-53857049afb0>, line 2)",
     "output_type": "error",
     "traceback": [
      "\u001b[0;36m  File \u001b[0;32m\"<ipython-input-9-53857049afb0>\"\u001b[0;36m, line \u001b[0;32m2\u001b[0m\n\u001b[0;31m    function EccAnom(ec,am,dp,_maxiter) {\u001b[0m\n\u001b[0m                   ^\u001b[0m\n\u001b[0;31mSyntaxError\u001b[0m\u001b[0;31m:\u001b[0m invalid syntax\n"
     ]
    }
   ],
   "source": [
    "pi = Math.PI;\n",
    "function EccAnom(ec,am,dp,_maxiter) { \n",
    "// ec=eccentricity, am=mean anomaly,\n",
    "// dp=number of decimal places\n",
    "    pi=Math.PI;\n",
    "    i=0; \n",
    "    delta=Math.pow(10,-dp); \n",
    "    var E, F; \n",
    "\n",
    "    // some attempt to optimize prediction\n",
    "    if (ec<0.8) {\n",
    "        E=am;\n",
    "    } else {\n",
    "       E= am + Math.sin(am);\n",
    "    }\n",
    "    F = E - ec*Math.sin(E) - am; \n",
    "    while ((Math.abs(F)>delta) && (i<_maxiter)) {\n",
    "        E = E - F/(1.0-(ec* Math.cos(E) )); \n",
    "        F = E - ec * Math.sin(E) - am; \n",
    "        i = i + 1;\n",
    "    } \n",
    "    return Math.round(E*Math.pow(10,dp))/Math.pow(10,dp);\n",
    "} \n",
    "function TrueAnom(ec,E,dp) { \n",
    "    S=Math.sin(E); \n",
    "    C=Math.cos(E); \n",
    "    fak=Math.sqrt(1.0-ec^2);\n",
    "\n",
    "    phi = 2.0 * Math.atan(Math.sqrt((1.0+ec)/(1.0-ec))*Math.tan(E/2.0));\n",
    "    return Math.round(phi*Math.pow(10,dp))/Math.pow(10,dp);\n",
    "} \n",
    "function MeanAnom(time,_period) {\n",
    "    curr_frame  = timeToFrames(time);\n",
    "    if (curr_frame <= _period) {\n",
    "        frames_done = curr_frame;\n",
    "        if (frames_done < 1) frames_done = 1;\n",
    "    } else {\n",
    "        frames_done = curr_frame % _period;\n",
    "    }\n",
    "    _fractime = (frames_done * 1.0 ) / _period;\n",
    "    mean_temp   = (2.0*Math.PI) * (-1.0 * _fractime);\n",
    "    return mean_temp;\n",
    "}\n",
    "_eccen      = 0.9;              \n",
    "_delta      = 14;\n",
    "_maxiter    = 1000;                 \n",
    "_period     = 300;          \n",
    "_semi_a     = 70.0;\n",
    "_semi_b     = _semi_a * Math.sqrt(1.0-_eccen^2); \n",
    "_meananom = MeanAnom(time,_period);\n",
    "_eccentricanomaly = EccAnom(_eccen,_meananom,_delta,_maxiter);\n",
    "_trueanomaly = TrueAnom(_eccen,_eccentricanomaly,_delta);\n",
    "r = _semi_a * (1.0 - _eccen^2) / (1.0 + (_eccen*Math.cos(_trueanomaly)));\n",
    "x = r * Math.cos(_trueanomaly);\n",
    "y = r * Math.sin(_trueanomaly);\n",
    "_foc=_semi_a*_eccen;\n",
    "[1460+x+_foc,540+y];"
   ]
  },
  {
   "cell_type": "code",
   "execution_count": null,
   "metadata": {},
   "outputs": [],
   "source": []
  }
 ],
 "metadata": {
  "kernelspec": {
   "display_name": "Python 3",
   "language": "python",
   "name": "python3"
  }
 },
 "nbformat": 4,
 "nbformat_minor": 1
}
