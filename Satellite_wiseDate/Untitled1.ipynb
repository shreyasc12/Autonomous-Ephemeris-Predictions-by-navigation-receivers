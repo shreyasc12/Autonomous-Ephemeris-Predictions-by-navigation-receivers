{
 "cells": [
  {
   "cell_type": "code",
   "execution_count": 12,
   "metadata": {},
   "outputs": [
    {
     "data": {
      "text/plain": [
       "'641166-11-18 04:50:00'"
      ]
     },
     "execution_count": 12,
     "metadata": {},
     "output_type": "execute_result"
    }
   ],
   "source": [
    "import time\n",
    "time.strftime('%Y-%m-%d %H:%M:%S', time.localtime(20171105220000))"
   ]
  },
  {
   "cell_type": "code",
   "execution_count": 11,
   "metadata": {},
   "outputs": [
    {
     "data": {
      "text/plain": [
       "'Thu Feb  9 17:16:40 7392'"
      ]
     },
     "execution_count": 11,
     "metadata": {},
     "output_type": "execute_result"
    }
   ],
   "source": [
    "import datetime\n",
    "datetime.datetime.fromtimestamp(171105220000).strftime('%c')"
   ]
  },
  {
   "cell_type": "code",
   "execution_count": 6,
   "metadata": {},
   "outputs": [
    {
     "data": {
      "text/plain": [
       "'7392-02-09 11:46:40'"
      ]
     },
     "execution_count": 6,
     "metadata": {},
     "output_type": "execute_result"
    }
   ],
   "source": [
    "import time\n",
    "time.strftime(\"%Y-%m-%d %H:%M:%S\", time.gmtime(171105220000))"
   ]
  },
  {
   "cell_type": "code",
   "execution_count": 13,
   "metadata": {},
   "outputs": [
    {
     "data": {
      "text/plain": [
       "time.struct_time(tm_year=2017, tm_mon=11, tm_mday=5, tm_hour=22, tm_min=0, tm_sec=0, tm_wday=6, tm_yday=309, tm_isdst=-1)"
      ]
     },
     "execution_count": 13,
     "metadata": {},
     "output_type": "execute_result"
    }
   ],
   "source": [
    "import time\n",
    "dt = time.strptime('20171105220000', '%Y%m%d%H%M%S')\n",
    "dt"
   ]
  },
  {
   "cell_type": "code",
   "execution_count": 15,
   "metadata": {},
   "outputs": [
    {
     "name": "stdout",
     "output_type": "stream",
     "text": [
      "2017-11-05 22:00:00\n"
     ]
    }
   ],
   "source": [
    "import datetime\n",
    "dt=datetime.datetime.strptime('20171105220000','%Y%m%d%H%M%S')\n",
    "print(dt)"
   ]
  },
  {
   "cell_type": "code",
   "execution_count": 24,
   "metadata": {},
   "outputs": [
    {
     "name": "stderr",
     "output_type": "stream",
     "text": [
      "/home/shraddha/anaconda3/lib/python3.5/site-packages/ipykernel/__main__.py:6: SettingWithCopyWarning: \n",
      "A value is trying to be set on a copy of a slice from a DataFrame\n",
      "\n",
      "See the caveats in the documentation: http://pandas.pydata.org/pandas-docs/stable/indexing.html#indexing-view-versus-copy\n"
     ]
    },
    {
     "data": {
      "text/plain": [
       "0      2017-11-01 14:00:00\n",
       "1      2017-11-01 16:00:00\n",
       "2      2017-11-01 18:00:00\n",
       "3      2017-11-01 20:00:00\n",
       "4      2017-11-01 22:00:00\n",
       "5      2017-11-02 00:00:00\n",
       "6      2017-11-02 12:00:00\n",
       "7      2017-11-02 14:00:00\n",
       "8      2017-11-02 16:00:00\n",
       "9      2017-11-02 18:00:00\n",
       "10     2017-11-02 20:00:00\n",
       "11     2017-11-02 22:00:00\n",
       "12     2017-11-03 12:00:00\n",
       "13     2017-11-03 14:00:00\n",
       "14     2017-11-03 16:00:00\n",
       "15     2017-11-03 18:00:00\n",
       "16     2017-11-03 20:00:00\n",
       "17     2017-11-03 22:00:00\n",
       "18     2017-11-04 12:00:00\n",
       "19     2017-11-04 14:00:00\n",
       "20     2017-11-04 16:00:00\n",
       "21     2017-11-04 18:00:00\n",
       "22     2017-11-04 20:00:00\n",
       "23     2017-11-04 22:00:00\n",
       "24     2017-11-05 12:00:00\n",
       "25     2017-11-05 14:00:00\n",
       "26     2017-11-05 16:00:00\n",
       "27     2017-11-05 18:00:00\n",
       "28     2017-11-05 20:00:00\n",
       "29     2017-11-05 22:00:00\n",
       "              ...         \n",
       "147    2017-11-25 16:00:00\n",
       "148    2017-11-25 18:00:00\n",
       "149    2017-11-25 19:59:44\n",
       "150    2017-11-25 22:00:00\n",
       "151    2017-11-26 10:00:00\n",
       "152    2017-11-26 12:00:00\n",
       "153    2017-11-26 14:00:00\n",
       "154    2017-11-26 16:00:00\n",
       "155    2017-11-26 18:00:00\n",
       "156    2017-11-26 19:59:44\n",
       "157    2017-11-26 22:00:00\n",
       "158    2017-11-27 10:00:00\n",
       "159    2017-11-27 12:00:00\n",
       "160    2017-11-27 14:00:00\n",
       "161    2017-11-27 16:00:00\n",
       "162    2017-11-27 18:00:00\n",
       "163    2017-11-27 19:59:44\n",
       "164    2017-11-27 22:00:00\n",
       "165    2017-11-28 12:00:00\n",
       "166    2017-11-28 14:00:00\n",
       "167    2017-11-28 16:00:00\n",
       "168    2017-11-28 18:00:00\n",
       "169    2017-11-28 19:59:44\n",
       "170    2017-11-28 22:00:00\n",
       "171    2017-11-29 12:00:00\n",
       "172    2017-11-29 14:00:00\n",
       "173    2017-11-29 16:00:00\n",
       "174    2017-11-29 18:00:00\n",
       "175    2017-11-29 19:59:44\n",
       "176    2017-11-29 22:00:00\n",
       "Name: Epoch_Time_of_Clock, Length: 177, dtype: object"
      ]
     },
     "execution_count": 24,
     "metadata": {},
     "output_type": "execute_result"
    }
   ],
   "source": [
    "import pandas as pd\n",
    "df = pd.read_csv('1.csv')\n",
    "df['Epoch_Time_of_Clock'] = '20' + df['Epoch_Time_of_Clock'].astype(str)\n",
    "#df['Epoch_Time_of_Clock']\n",
    "for i in range(0,177):\n",
    "    df['Epoch_Time_of_Clock'][i]=datetime.datetime.strptime( df['Epoch_Time_of_Clock'][i],'%Y%m%d%H%M%S')\n",
    "df['Epoch_Time_of_Clock']"
   ]
  },
  {
   "cell_type": "code",
   "execution_count": 25,
   "metadata": {
    "collapsed": true
   },
   "outputs": [],
   "source": [
    "df.to_csv('1.csv')"
   ]
  },
  {
   "cell_type": "code",
   "execution_count": 38,
   "metadata": {},
   "outputs": [
    {
     "data": {
      "text/plain": [
       "Unnamed: 0               int64\n",
       "PRN                      int64\n",
       "Epoch_Time_of_Clock     object\n",
       "SV_Clock_Bias          float64\n",
       "SV_Clock_Drift         float64\n",
       "SV_Clock_Drift_Rate      int64\n",
       "IODE                     int64\n",
       "Crs                    float64\n",
       "Del_n                  float64\n",
       "M0                     float64\n",
       "Cuc                    float64\n",
       "e                      float64\n",
       "Cus                    float64\n",
       "sqrt_A                 float64\n",
       "Toe                      int64\n",
       "Cic                    float64\n",
       "OMEGA                  float64\n",
       "Cis                    float64\n",
       "i0                     float64\n",
       "Crc                    float64\n",
       "omega                  float64\n",
       "OMEGA_dot              float64\n",
       "I_dot                  float64\n",
       "Codes                    int64\n",
       "GPS_week                 int64\n",
       "L2_P_Data_flag           int64\n",
       "SV_accuracy              int64\n",
       "SV_health                int64\n",
       "Tgd                    float64\n",
       "IODC                     int64\n",
       "T_Tx                     int64\n",
       "Fit_Interval             int64\n",
       "dtype: object"
      ]
     },
     "execution_count": 38,
     "metadata": {},
     "output_type": "execute_result"
    }
   ],
   "source": [
    "x=df['Epoch_Time_of_Clock']\n",
    "y=df['Del_n']\n",
    "import matplotlib.pyplot as plt\n",
    "#plt.plot(x,y)\n",
    "#plt.show()\n",
    "df.dtypes"
   ]
  },
  {
   "cell_type": "code",
   "execution_count": 31,
   "metadata": {},
   "outputs": [
    {
     "name": "stderr",
     "output_type": "stream",
     "text": [
      "/home/shraddha/anaconda3/lib/python3.5/site-packages/ipykernel/__main__.py:8: SettingWithCopyWarning: \n",
      "A value is trying to be set on a copy of a slice from a DataFrame\n",
      "\n",
      "See the caveats in the documentation: http://pandas.pydata.org/pandas-docs/stable/indexing.html#indexing-view-versus-copy\n"
     ]
    }
   ],
   "source": [
    "for i in range(2,33):\n",
    "    fname=\"\"\n",
    "    if(i!=4):\n",
    "        fname=str(i)+\".csv\"\n",
    "        df=pd.read_csv(fname)\n",
    "        df['Epoch_Time_of_Clock'] = '20' + df['Epoch_Time_of_Clock'].astype(str)\n",
    "        for i in range(0,len(df)):\n",
    "            df['Epoch_Time_of_Clock'][i]=datetime.datetime.strptime( df['Epoch_Time_of_Clock'][i],'%Y%m%d%H%M%S')\n",
    "        df.to_csv(fname)\n",
    "        "
   ]
  },
  {
   "cell_type": "code",
   "execution_count": 30,
   "metadata": {},
   "outputs": [
    {
     "name": "stdout",
     "output_type": "stream",
     "text": [
      "2\n",
      "3\n",
      "4\n"
     ]
    }
   ],
   "source": [
    "for i in range(2,5):\n",
    "    print(i)"
   ]
  },
  {
   "cell_type": "code",
   "execution_count": null,
   "metadata": {},
   "outputs": [],
   "source": []
  },
  {
   "cell_type": "code",
   "execution_count": 37,
   "metadata": {},
   "outputs": [
    {
     "data": {
      "text/plain": [
       "Unnamed: 0               int64\n",
       "Unnamed: 0.1             int64\n",
       "PRN                      int64\n",
       "Epoch_Time_of_Clock     object\n",
       "SV_Clock_Bias          float64\n",
       "SV_Clock_Drift         float64\n",
       "SV_Clock_Drift_Rate      int64\n",
       "IODE                     int64\n",
       "Crs                    float64\n",
       "Del_n                  float64\n",
       "M0                     float64\n",
       "Cuc                    float64\n",
       "e                      float64\n",
       "Cus                    float64\n",
       "sqrt_A                 float64\n",
       "Toe                      int64\n",
       "Cic                    float64\n",
       "OMEGA                  float64\n",
       "Cis                    float64\n",
       "i0                     float64\n",
       "Crc                    float64\n",
       "omega                  float64\n",
       "OMEGA_dot              float64\n",
       "I_dot                  float64\n",
       "Codes                    int64\n",
       "GPS_week                 int64\n",
       "L2_P_Data_flag           int64\n",
       "SV_accuracy              int64\n",
       "SV_health                int64\n",
       "Tgd                    float64\n",
       "IODC                     int64\n",
       "T_Tx                     int64\n",
       "Fit_Interval             int64\n",
       "dtype: object"
      ]
     },
     "execution_count": 37,
     "metadata": {},
     "output_type": "execute_result"
    }
   ],
   "source": [
    "df1=pd.read_csv('1.csv')\n",
    "df1.dtypes"
   ]
  },
  {
   "cell_type": "code",
   "execution_count": null,
   "metadata": {
    "collapsed": true
   },
   "outputs": [],
   "source": []
  }
 ],
 "metadata": {
  "kernelspec": {
   "display_name": "Python [anaconda3]",
   "language": "python",
   "name": "Python [anaconda3]"
  },
  "language_info": {
   "codemirror_mode": {
    "name": "ipython",
    "version": 3
   },
   "file_extension": ".py",
   "mimetype": "text/x-python",
   "name": "python",
   "nbconvert_exporter": "python",
   "pygments_lexer": "ipython3",
   "version": "3.5.2"
  }
 },
 "nbformat": 4,
 "nbformat_minor": 1
}
